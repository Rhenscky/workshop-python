{
 "cells": [
  {
   "cell_type": "code",
   "execution_count": 1,
   "id": "befc9f54-0725-4af2-bfe1-c3d01d798a53",
   "metadata": {},
   "outputs": [
    {
     "data": {
      "text/plain": [
       "'Eric'"
      ]
     },
     "execution_count": 1,
     "metadata": {},
     "output_type": "execute_result"
    }
   ],
   "source": [
    "from collections import deque\n",
    "queue = deque([\"Eric\", \"John\", \"Michael\"])\n",
    "queue.append(\"Terry\")           # Terry tiba\n",
    "queue.append(\"Graham\")          #Graham tiba\n",
    "queue.popleft()                 # Yang pertama tiba sekarang pergi"
   ]
  },
  {
   "cell_type": "code",
   "execution_count": 2,
   "id": "a13f446c-59ad-4c2f-bfc6-ee26f8b01da9",
   "metadata": {},
   "outputs": [
    {
     "data": {
      "text/plain": [
       "'John'"
      ]
     },
     "execution_count": 2,
     "metadata": {},
     "output_type": "execute_result"
    }
   ],
   "source": [
    "queue.popleft() # Yang kedua tiba sekarang pergi                "
   ]
  },
  {
   "cell_type": "code",
   "execution_count": 3,
   "id": "185a7b21-c49c-4765-853f-d3a8007b4f01",
   "metadata": {},
   "outputs": [
    {
     "data": {
      "text/plain": [
       "deque(['Michael', 'Terry', 'Graham'])"
      ]
     },
     "execution_count": 3,
     "metadata": {},
     "output_type": "execute_result"
    }
   ],
   "source": [
    "queue # Sisa antrian sesuai urutan kedatangan                          "
   ]
  },
  {
   "cell_type": "code",
   "execution_count": null,
   "id": "d1449f25-1ef4-45ef-8cbe-65624b333a97",
   "metadata": {},
   "outputs": [],
   "source": []
  }
 ],
 "metadata": {
  "kernelspec": {
   "display_name": "Python 3 (ipykernel)",
   "language": "python",
   "name": "python3"
  },
  "language_info": {
   "codemirror_mode": {
    "name": "ipython",
    "version": 3
   },
   "file_extension": ".py",
   "mimetype": "text/x-python",
   "name": "python",
   "nbconvert_exporter": "python",
   "pygments_lexer": "ipython3",
   "version": "3.9.7"
  }
 },
 "nbformat": 4,
 "nbformat_minor": 5
}
