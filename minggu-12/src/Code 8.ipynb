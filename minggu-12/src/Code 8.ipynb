{
 "cells": [
  {
   "cell_type": "code",
   "execution_count": 1,
   "id": "32108af4-ad97-4287-bf61-c5b80ffe2880",
   "metadata": {},
   "outputs": [
    {
     "name": "stdout",
     "output_type": "stream",
     "text": [
      "{'pear', 'apple', 'orange', 'banana'}\n"
     ]
    }
   ],
   "source": [
    "basket = {'apple', 'orange', 'apple', 'pear', 'orange', 'banana'}\n",
    "print(basket) # tunjukkan bahwa duplikat telah dihapus               "
   ]
  },
  {
   "cell_type": "code",
   "execution_count": 2,
   "id": "6f7d2e96-3209-466d-98b6-60e06a1e64f7",
   "metadata": {},
   "outputs": [
    {
     "data": {
      "text/plain": [
       "True"
      ]
     },
     "execution_count": 2,
     "metadata": {},
     "output_type": "execute_result"
    }
   ],
   "source": [
    "'orange' in basket # pengujian keanggotaan cepat                "
   ]
  },
  {
   "cell_type": "code",
   "execution_count": 3,
   "id": "f27c6303-d699-43d2-9373-d2d5a166f3a1",
   "metadata": {},
   "outputs": [
    {
     "data": {
      "text/plain": [
       "False"
      ]
     },
     "execution_count": 3,
     "metadata": {},
     "output_type": "execute_result"
    }
   ],
   "source": [
    "'crabgrass' in basket"
   ]
  },
  {
   "cell_type": "code",
   "execution_count": 4,
   "id": "a0cfc7dd-cba6-4427-ba0a-44f9bc9357bf",
   "metadata": {},
   "outputs": [
    {
     "data": {
      "text/plain": [
       "{'a', 'b', 'c', 'd', 'r'}"
      ]
     },
     "execution_count": 4,
     "metadata": {},
     "output_type": "execute_result"
    }
   ],
   "source": [
    "a = set('abracadabra')\n",
    "b = set('alacazam')\n",
    "a # huruf unik dalam a                                "
   ]
  },
  {
   "cell_type": "code",
   "execution_count": 5,
   "id": "8c3b580b-d13a-46fc-b8ec-6d46096f6237",
   "metadata": {},
   "outputs": [
    {
     "data": {
      "text/plain": [
       "{'b', 'd', 'r'}"
      ]
     },
     "execution_count": 5,
     "metadata": {},
     "output_type": "execute_result"
    }
   ],
   "source": [
    "a - b # huruf di a tapi tidak di b                             "
   ]
  },
  {
   "cell_type": "code",
   "execution_count": 6,
   "id": "8765b599-6be3-4dbb-887f-39af8521d7cb",
   "metadata": {},
   "outputs": [
    {
     "data": {
      "text/plain": [
       "{'a', 'b', 'c', 'd', 'l', 'm', 'r', 'z'}"
      ]
     },
     "execution_count": 6,
     "metadata": {},
     "output_type": "execute_result"
    }
   ],
   "source": [
    "a | b # huruf dalam a atau b atau keduanya                             "
   ]
  },
  {
   "cell_type": "code",
   "execution_count": 7,
   "id": "30305125-83f8-4613-8d76-cc891dbcb4ce",
   "metadata": {},
   "outputs": [
    {
     "data": {
      "text/plain": [
       "{'a', 'c'}"
      ]
     },
     "execution_count": 7,
     "metadata": {},
     "output_type": "execute_result"
    }
   ],
   "source": [
    "a & b # huruf di a dan b                              "
   ]
  },
  {
   "cell_type": "code",
   "execution_count": 8,
   "id": "d54adb96-3b8d-4fca-8b94-b35868d3e353",
   "metadata": {},
   "outputs": [
    {
     "data": {
      "text/plain": [
       "{'b', 'd', 'l', 'm', 'r', 'z'}"
      ]
     },
     "execution_count": 8,
     "metadata": {},
     "output_type": "execute_result"
    }
   ],
   "source": [
    "a ^ b # huruf dalam a atau b tetapi tidak keduanya                             "
   ]
  },
  {
   "cell_type": "code",
   "execution_count": 9,
   "id": "e482e938-dc97-4452-9589-4ac63c993c32",
   "metadata": {},
   "outputs": [
    {
     "data": {
      "text/plain": [
       "{'d', 'r'}"
      ]
     },
     "execution_count": 9,
     "metadata": {},
     "output_type": "execute_result"
    }
   ],
   "source": [
    "a = {x for x in 'abracadabra' if x not in 'abc'}\n",
    "a"
   ]
  },
  {
   "cell_type": "code",
   "execution_count": null,
   "id": "3dbce1e9-5378-43cb-a44a-0f640cde6d95",
   "metadata": {},
   "outputs": [],
   "source": []
  }
 ],
 "metadata": {
  "kernelspec": {
   "display_name": "Python 3 (ipykernel)",
   "language": "python",
   "name": "python3"
  },
  "language_info": {
   "codemirror_mode": {
    "name": "ipython",
    "version": 3
   },
   "file_extension": ".py",
   "mimetype": "text/x-python",
   "name": "python",
   "nbconvert_exporter": "python",
   "pygments_lexer": "ipython3",
   "version": "3.9.7"
  }
 },
 "nbformat": 4,
 "nbformat_minor": 5
}
